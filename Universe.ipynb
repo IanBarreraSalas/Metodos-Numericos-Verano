{
 "cells": [
  {
   "cell_type": "code",
   "execution_count": 77,
   "metadata": {},
   "outputs": [],
   "source": [
    "from pylab import*\n",
    "from matplotlib import*\n",
    "from scipy import*"
   ]
  },
  {
   "cell_type": "code",
   "execution_count": 78,
   "metadata": {},
   "outputs": [],
   "source": [
    "def simpsos (x,fx):\n",
    "    inte=0\n",
    "    a=fx[0]\n",
    "    b=fx[len(fx)-1]\n",
    "    h=((x[len(x)-1]-x[0])/(len(x)))\n",
    "    st=(len(fx)//2)-1\n",
    "    for i in range (1,st):\n",
    "        inte+=2*fx[2*i]\n",
    "    for i in range (1,st+1):\n",
    "        inte+=4*fx[(2*i)-1]\n",
    "    inte+=a+b\n",
    "    inte*=(h)/3   \n",
    "    return inte"
   ]
  },
  {
   "cell_type": "code",
   "execution_count": 79,
   "metadata": {},
   "outputs": [],
   "source": [
    "Omega_lamb=0.7\n",
    "Omega_m=0.3\n",
    "Omega_r=1.e-5\n",
    "\n",
    "def H(a):\n",
    "    return np.sqrt((Omega_m/(a**3))+(Omega_r/(a**4))+Omega_lamb)\n",
    "\n",
    "ecue= lambda x: 1/(x*H(x))\n",
    "\n",
    "\n",
    "\n",
    "\n"
   ]
  },
  {
   "cell_type": "code",
   "execution_count": null,
   "metadata": {},
   "outputs": [],
   "source": []
  },
  {
   "cell_type": "code",
   "execution_count": 80,
   "metadata": {},
   "outputs": [],
   "source": [
    "x=numpy.zeros((100,100))\n",
    "for i in range (1,101) :\n",
    "    x[i-1]= linspace(0.01*i,1,100) \n",
    "\n",
    "#print(x)\n"
   ]
  },
  {
   "cell_type": "code",
   "execution_count": 81,
   "metadata": {},
   "outputs": [],
   "source": [
    "y=numpy.zeros((100,100))\n",
    "test=numpy.zeros(100)\n",
    "for i in range(100):\n",
    "    y[i]= ecue(x[i])\n",
    "    test[i]=simpsos(x[i],y[i])"
   ]
  },
  {
   "cell_type": "code",
   "execution_count": 82,
   "metadata": {},
   "outputs": [],
   "source": [
    "#print(test)"
   ]
  },
  {
   "cell_type": "code",
   "execution_count": 83,
   "metadata": {},
   "outputs": [],
   "source": [
    "t0=4.383504e+17\n",
    "H0=sqrt((8*pi*6.67e-11*1e-16)/3)"
   ]
  },
  {
   "cell_type": "code",
   "execution_count": 84,
   "metadata": {},
   "outputs": [],
   "source": [
    "t=numpy.zeros(100)\n",
    "for i in range (100):\n",
    "    t[i]=t0-(test[i]/H0)"
   ]
  },
  {
   "cell_type": "code",
   "execution_count": 85,
   "metadata": {},
   "outputs": [],
   "source": [
    "axis=numpy.zeros(100)\n",
    "for i in range(1,101):\n",
    "    axis[i-1]=(0.01*i)\n",
    "#print(axis)"
   ]
  },
  {
   "cell_type": "code",
   "execution_count": 86,
   "metadata": {},
   "outputs": [
    {
     "data": {
      "image/png": "[encoded data removed]",
      "text/plain": [
       "<Figure size 432x288 with 1 Axes>"
      ]
     },
     "metadata": {},
     "output_type": "display_data"
    }
   ],
   "source": [
    "plot(t,axis,'--')\n",
    "yscale('log')\n",
    "xscale('log')\n",
    "show()"
   ]
  },
  {
   "cell_type": "code",
   "execution_count": null,
   "metadata": {},
   "outputs": [],
   "source": []
  },
  {
   "cell_type": "code",
   "execution_count": null,
   "metadata": {},
   "outputs": [],
   "source": []
  },
  {
   "cell_type": "code",
   "execution_count": null,
   "metadata": {},
   "outputs": [],
   "source": []
  },
  {
   "cell_type": "code",
   "execution_count": null,
   "metadata": {},
   "outputs": [],
   "source": []
  },
  {
   "cell_type": "code",
   "execution_count": null,
   "metadata": {},
   "outputs": [],
   "source": []
  }
 ],
 "metadata": {
  "kernelspec": {
   "display_name": "Python 3",
   "language": "python",
   "name": "python3"
  },
  "language_info": {
   "codemirror_mode": {
    "name": "ipython",
    "version": 3
   },
   "file_extension": ".py",
   "mimetype": "text/x-python",
   "name": "python",
   "nbconvert_exporter": "python",
   "pygments_lexer": "ipython3",
   "version": "3.7.3"
  }
 },
 "nbformat": 4,
 "nbformat_minor": 2
}
