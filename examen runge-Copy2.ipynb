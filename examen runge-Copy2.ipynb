{
 "cells": [
  {
   "cell_type": "code",
   "execution_count": 4,
   "metadata": {},
   "outputs": [],
   "source": [
    "from pylab import*\n",
    "from matplotlib import*\n",
    "from scipy import*"
   ]
  },
  {
   "cell_type": "code",
   "execution_count": 5,
   "metadata": {},
   "outputs": [
    {
     "name": "stderr",
     "output_type": "stream",
     "text": [
      "C:\\ProgramData\\Miniconda3\\lib\\site-packages\\ipykernel_launcher.py:11: RuntimeWarning: overflow encountered in double_scalars\n",
      "  # This is added back by InteractiveShellApp.init_path()\n",
      "C:\\ProgramData\\Miniconda3\\lib\\site-packages\\ipykernel_launcher.py:7: RuntimeWarning: invalid value encountered in double_scalars\n",
      "  import sys\n",
      "C:\\ProgramData\\Miniconda3\\lib\\site-packages\\ipykernel_launcher.py:11: RuntimeWarning: invalid value encountered in double_scalars\n",
      "  # This is added back by InteractiveShellApp.init_path()\n",
      "C:\\ProgramData\\Miniconda3\\lib\\site-packages\\ipykernel_launcher.py:13: RuntimeWarning: invalid value encountered in sin\n",
      "  del sys.path[0]\n",
      "C:\\ProgramData\\Miniconda3\\lib\\site-packages\\ipykernel_launcher.py:11: RuntimeWarning: invalid value encountered in cos\n",
      "  # This is added back by InteractiveShellApp.init_path()\n"
     ]
    },
    {
     "data": {
      "image/png": "[encoded data removed]",
      "text/plain": [
       "<Figure size 432x288 with 1 Axes>"
      ]
     },
     "metadata": {
      "needs_background": "light"
     },
     "output_type": "display_data"
    }
   ],
   "source": [
    "M=2\n",
    "m=1\n",
    "mu=M/m\n",
    "gf=9.81\n",
    "\n",
    "def k(t,theta,r,pr,pt):\n",
    "    return (pt)/(m*(r**2))\n",
    "def g(t,theta,r,pr,pt):\n",
    "    return (pr/(M+m))\n",
    "def j(t,theta,r,pr,pt):\n",
    "    return ((pt**2)/(m*(r**3))+(gf*(m*cos(theta)-M)))\n",
    "def f(t,theta,r,pr,pt):\n",
    "    return -m*gf*r*sin(theta)\n",
    "\n",
    "N=10000\n",
    "a,b=0,100\n",
    "h=(b-a)/N\n",
    "t,theta,r,pr,pt=zeros(N),zeros(N),zeros(N),zeros(N),zeros(N)\n",
    "t[0],theta[0],r[0],pr[0],pt[0]=a,(pi/2)*(pi/180),1,0,0\n",
    "\n",
    "for i in range(1,N):\n",
    "    k11=h*f(t[i-1],theta[i-1],r[i-1],pr[i-1],pt[i-1])\n",
    "    k12=h*g(t[i-1],theta[i-1],r[i-1],pr[i-1],pt[i-1])\n",
    "    k13=h*k(t[i-1],theta[i-1],r[i-1],pr[i-1],pt[i-1])\n",
    "    k14=h*j(t[i-1],theta[i-1],r[i-1],pr[i-1],pt[i-1])\n",
    "    \n",
    "    k21=h*f(t[i-1]+0.5*h,theta[i-1]+0.5*k11,r[i-1]+0.5*k12,pr[i-1]+0.5*k13,pt[i-1]+0.5*k14)\n",
    "    k22=h*g(t[i-1]+0.5*h,theta[i-1]+0.5*k11,r[i-1]+0.5*k12,pr[i-1]+0.5*k13,pt[i-1]+0.5*k14)\n",
    "    k23=h*k(t[i-1]+0.5*h,theta[i-1]+0.5*k11,r[i-1]+0.5*k12,pr[i-1]+0.5*k13,pt[i-1]+0.5*k14)\n",
    "    k24=h*j(t[i-1]+0.5*h,theta[i-1]+0.5*k11,r[i-1]+0.5*k12,pr[i-1]+0.5*k13,pt[i-1]+0.5*k14)\n",
    "    \n",
    "    k31=h*f(t[i-1]+0.5*h,theta[i-1]+0.5*k21,r[i-1]+0.5*k22,pr[i-1]+0.5*k23,pt[i-1]+0.5*k24)\n",
    "    k32=h*g(t[i-1]+0.5*h,theta[i-1]+0.5*k21,r[i-1]+0.5*k22,pr[i-1]+0.5*k23,pt[i-1]+0.5*k24)\n",
    "    k33=h*k(t[i-1]+0.5*h,theta[i-1]+0.5*k21,r[i-1]+0.5*k22,pr[i-1]+0.5*k23,pt[i-1]+0.5*k24)\n",
    "    k34=h*j(t[i-1]+0.5*h,theta[i-1]+0.5*k21,r[i-1]+0.5*k22,pr[i-1]+0.5*k23,pt[i-1]+0.5*k24)\n",
    "    \n",
    "    k41=h*f(t[i-1]+h,theta[i-1]+k31,r[i-1]+k32,pr[i-1]+k33,pt[i-1]+k34)\n",
    "    k42=h*g(t[i-1]+h,theta[i-1]+k31,r[i-1]+k32,pr[i-1]+k33,pt[i-1]+k34)\n",
    "    k43=h*k(t[i-1]+h,theta[i-1]+k31,r[i-1]+k32,pr[i-1]+k33,pt[i-1]+k34)\n",
    "    k44=h*j(t[i-1]+h,theta[i-1]+k31,r[i-1]+k32,pr[i-1]+k33,pt[i-1]+k34)\n",
    "    \n",
    "    theta[i]=theta[i-1]+(1/6)*(k11+2*k21+2*k31+k41)\n",
    "    r[i]=r[i-1]+(1/6)*(k12+2*k22+2*k32+k42)\n",
    "    pr[i]=pr[i-1]+(1/6)*(k13+2*k23+2*k33+k43)\n",
    "    pt[i]=pt[i-1]+(1/6)*(k14+2*k24+2*k34+k44)\n",
    "    t[i]=t[i-1]+h\n",
    "\n",
    "    \n",
    "    \n",
    "plot(t,theta,label='rktheta')\n",
    "plot(t,r,label='rkr')\n",
    "plot(t,pr,label='rkpr')\n",
    "plot(t,pt,label='rkpt')\n",
    "\n",
    "pylab.legend()\n",
    "show()"
   ]
  },
  {
   "cell_type": "code",
   "execution_count": 6,
   "metadata": {},
   "outputs": [
    {
     "data": {
      "text/plain": [
       "[<matplotlib.lines.Line2D at 0x24eae85e550>]"
      ]
     },
     "execution_count": 6,
     "metadata": {},
     "output_type": "execute_result"
    },
    {
     "data": {
      "image/png": "[encoded data removed]",
      "text/plain": [
       "<Figure size 432x288 with 1 Axes>"
      ]
     },
     "metadata": {
      "needs_background": "light"
     },
     "output_type": "display_data"
    }
   ],
   "source": [
    "ux=r*sin(degrees(theta))\n",
    "uy=(-r)*cos(degrees(theta))\n",
    "plot(ux,uy)\n"
   ]
  },
  {
   "cell_type": "code",
   "execution_count": 7,
   "metadata": {},
   "outputs": [
    {
     "data": {
      "text/plain": [
       "(-1, 1)"
      ]
     },
     "execution_count": 7,
     "metadata": {},
     "output_type": "execute_result"
    },
    {
     "data": {
      "image/png": "[encoded data removed]",
      "text/plain": [
       "<Figure size 432x288 with 1 Axes>"
      ]
     },
     "metadata": {
      "needs_background": "light"
     },
     "output_type": "display_data"
    }
   ],
   "source": [
    "def fx(r,theta):\n",
    "    return r*sin(degrees(theta))\n",
    "def fy(r,theta):\n",
    "    return -r*cos(degrees(theta))\n",
    "plot(fx(r,theta),fy(r,theta))\n",
    "xlim(-1,1)\n",
    "ylim(-1,1)\n"
   ]
  },
  {
   "cell_type": "code",
   "execution_count": null,
   "metadata": {},
   "outputs": [],
   "source": []
  },
  {
   "cell_type": "code",
   "execution_count": null,
   "metadata": {},
   "outputs": [],
   "source": []
  }
 ],
 "metadata": {
  "kernelspec": {
   "display_name": "Python 3",
   "language": "python",
   "name": "python3"
  },
  "language_info": {
   "codemirror_mode": {
    "name": "ipython",
    "version": 3
   },
   "file_extension": ".py",
   "mimetype": "text/x-python",
   "name": "python",
   "nbconvert_exporter": "python",
   "pygments_lexer": "ipython3",
   "version": "3.7.3"
  }
 },
 "nbformat": 4,
 "nbformat_minor": 2
}
