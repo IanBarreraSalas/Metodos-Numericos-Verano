{
 "cells": [
  {
   "cell_type": "code",
   "execution_count": 182,
   "metadata": {},
   "outputs": [],
   "source": [
    "from pylab import*\n",
    "from matplotlib import*\n",
    "from scipy import*\n"
   ]
  },
  {
   "cell_type": "code",
   "execution_count": 194,
   "metadata": {},
   "outputs": [],
   "source": [
    "Omega_lamb=0.7\n",
    "Omega_m=0.3\n",
    "Omega_r=1.e-5\n",
    "\n",
    "#def J(a):\n",
    "    #return np.sqrt((Omega_m/(a**3))+(Omega_r/(a**4))+Omega_lamb)\n",
    "\n",
    "def H(a):\n",
    "    return np.sqrt((Omega_m/(a))+(Omega_r/(a**2))+(a**2)*Omega_lamb)\n",
    "\n",
    "\n",
    "#ecueo= lambda x: 1/(x*J(x))\n",
    "\n",
    "ecue= lambda x: (H(x))"
   ]
  },
  {
   "cell_type": "code",
   "execution_count": 195,
   "metadata": {},
   "outputs": [],
   "source": [
    "#func= lambda x: exp(x)\n",
    "#def defunc(func):\n",
    "    #return -func"
   ]
  },
  {
   "cell_type": "code",
   "execution_count": 201,
   "metadata": {},
   "outputs": [],
   "source": [
    "def f(y):\n",
    "    return ecue(y)\n",
    "\n",
    "\n",
    "def ecuadif(fi,n0,nn,n):\n",
    "    t=linspace(n0,nn,n)\n",
    "    w=numpy.zeros(len(t))\n",
    "    w[0]=fi\n",
    "    for i in range(len(t)-1):\n",
    "        w[i+1]=w[i]+(t[i+1]-t[i])*f(w[i])\n",
    "    return w"
   ]
  },
  {
   "cell_type": "code",
   "execution_count": 204,
   "metadata": {},
   "outputs": [
    {
     "name": "stderr",
     "output_type": "stream",
     "text": [
      "/usr/lib/python3.7/site-packages/ipykernel_launcher.py:9: RuntimeWarning: invalid value encountered in sqrt\n",
      "  if __name__ == '__main__':\n"
     ]
    }
   ],
   "source": [
    "test=ecuadif(1,1,0,1000)\n",
    "#print(test)"
   ]
  },
  {
   "cell_type": "code",
   "execution_count": 206,
   "metadata": {},
   "outputs": [
    {
     "data": {
      "text/plain": [
       "[<matplotlib.lines.Line2D at 0x7f3bedba5550>]"
      ]
     },
     "execution_count": 206,
     "metadata": {},
     "output_type": "execute_result"
    },
    {
     "data": {
      "image/png": "[encoded data removed]",
      "text/plain": [
       "<Figure size 432x288 with 1 Axes>"
      ]
     },
     "metadata": {},
     "output_type": "display_data"
    }
   ],
   "source": [
    "y=linspace(13.6e9,0,1000)\n",
    "plot(y,test,'.')\n",
    "#plot(y,ecue(y))"
   ]
  },
  {
   "cell_type": "code",
   "execution_count": null,
   "metadata": {},
   "outputs": [],
   "source": []
  },
  {
   "cell_type": "code",
   "execution_count": null,
   "metadata": {},
   "outputs": [],
   "source": []
  },
  {
   "cell_type": "code",
   "execution_count": null,
   "metadata": {},
   "outputs": [],
   "source": []
  },
  {
   "cell_type": "code",
   "execution_count": null,
   "metadata": {},
   "outputs": [],
   "source": []
  },
  {
   "cell_type": "code",
   "execution_count": null,
   "metadata": {},
   "outputs": [],
   "source": []
  }
 ],
 "metadata": {
  "kernelspec": {
   "display_name": "Python 3",
   "language": "python",
   "name": "python3"
  },
  "language_info": {
   "codemirror_mode": {
    "name": "ipython",
    "version": 3
   },
   "file_extension": ".py",
   "mimetype": "text/x-python",
   "name": "python",
   "nbconvert_exporter": "python",
   "pygments_lexer": "ipython3",
   "version": "3.7.3"
  }
 },
 "nbformat": 4,
 "nbformat_minor": 2
}
