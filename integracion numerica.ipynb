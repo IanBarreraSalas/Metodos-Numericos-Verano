{
 "cells": [
  {
   "cell_type": "code",
   "execution_count": 297,
   "metadata": {},
   "outputs": [],
   "source": [
    "from pylab import*\n",
    "from matplotlib import*\n",
    "from scipy import*"
   ]
  },
  {
   "cell_type": "code",
   "execution_count": 298,
   "metadata": {},
   "outputs": [],
   "source": [
    "def traper (x,fx):\n",
    "    inte=0\n",
    "    #print(fx)\n",
    "    for i in range (len(x)-1):\n",
    "        inte+=((x[i+1]-x[i])/2)*(fx[i]+fx[i+1])\n",
    "    return inte"
   ]
  },
  {
   "cell_type": "code",
   "execution_count": 299,
   "metadata": {},
   "outputs": [],
   "source": [
    "def simps (x,fx):\n",
    "    inte=0\n",
    "    for i in range (0,len(x)-2,2):\n",
    "        inte+=(((x[i+2]-x[i])/2)/3)*(fx[i]+(4*(fx[i+1]))+fx[i+2])\n",
    "        \n",
    "    return inte"
   ]
  },
  {
   "cell_type": "code",
   "execution_count": 300,
   "metadata": {},
   "outputs": [],
   "source": [
    "x=linspace(0,4,1000)\n",
    "simpx=linspace(0,4,10000)\n",
    "y= exp(x)\n",
    "simpy=exp(simpx)"
   ]
  },
  {
   "cell_type": "code",
   "execution_count": 301,
   "metadata": {},
   "outputs": [
    {
     "name": "stdout",
     "output_type": "stream",
     "text": [
      "53.598221640468225\n"
     ]
    }
   ],
   "source": [
    "integral=np.trapz(y,x)\n",
    "print(integral)"
   ]
  },
  {
   "cell_type": "code",
   "execution_count": 302,
   "metadata": {},
   "outputs": [
    {
     "name": "stdout",
     "output_type": "stream",
     "text": [
      "53.59822164046819\n"
     ]
    }
   ],
   "source": [
    "#print(y)\n",
    "test=traper(x,y)\n",
    "print(test)"
   ]
  },
  {
   "cell_type": "code",
   "execution_count": 303,
   "metadata": {},
   "outputs": [
    {
     "name": "stdout",
     "output_type": "stream",
     "text": [
      "53.57631295712983\n"
     ]
    }
   ],
   "source": [
    "test=simps(simpx,simpy)\n",
    "print(test)"
   ]
  },
  {
   "cell_type": "code",
   "execution_count": 311,
   "metadata": {},
   "outputs": [
    {
     "name": "stdout",
     "output_type": "stream",
     "text": [
      "53.598150033144236\n"
     ]
    }
   ],
   "source": [
    "print(y[len(y)-1]-y[0])"
   ]
  },
  {
   "cell_type": "code",
   "execution_count": 312,
   "metadata": {},
   "outputs": [],
   "source": [
    "def traperos (x,fx):\n",
    "    inte=0\n",
    "    a=fx[0]\n",
    "    b=fx[len(fx)-1]\n",
    "    h=((x[len(x)-1]-x[0])/(len(x)))\n",
    "    for i in range (1,len(fx)-1):\n",
    "        inte+=2*fx[i]\n",
    "    inte+=a+b\n",
    "    inte*=(h)/2\n",
    "    return inte"
   ]
  },
  {
   "cell_type": "code",
   "execution_count": 313,
   "metadata": {},
   "outputs": [
    {
     "name": "stdout",
     "output_type": "stream",
     "text": [
      "53.54462341882778\n"
     ]
    }
   ],
   "source": [
    "test=traperos(x,y)\n",
    "print(test)"
   ]
  },
  {
   "cell_type": "code",
   "execution_count": 314,
   "metadata": {},
   "outputs": [],
   "source": [
    "def simpsos (x,fx):\n",
    "    inte=0\n",
    "    a=fx[0]\n",
    "    b=fx[len(fx)-1]\n",
    "    h=((x[len(x)-1]-x[0])/(len(x)))\n",
    "    st=(len(fx)//2)-1\n",
    "    for i in range (1,st):\n",
    "        inte+=2*fx[2*i]\n",
    "    for i in range (1,st+1):\n",
    "        inte+=4*fx[(2*i)-1]\n",
    "    inte+=a+b\n",
    "    inte*=(h)/3   \n",
    "    return inte"
   ]
  },
  {
   "cell_type": "code",
   "execution_count": 315,
   "metadata": {},
   "outputs": [
    {
     "name": "stdout",
     "output_type": "stream",
     "text": [
      "53.57095823744404\n"
     ]
    }
   ],
   "source": [
    "test=simpsos(simpx,simpy)\n",
    "print(test)"
   ]
  },
  {
   "cell_type": "code",
   "execution_count": null,
   "metadata": {},
   "outputs": [],
   "source": []
  },
  {
   "cell_type": "code",
   "execution_count": null,
   "metadata": {},
   "outputs": [],
   "source": []
  },
  {
   "cell_type": "code",
   "execution_count": null,
   "metadata": {},
   "outputs": [],
   "source": []
  },
  {
   "cell_type": "code",
   "execution_count": null,
   "metadata": {},
   "outputs": [],
   "source": []
  }
 ],
 "metadata": {
  "kernelspec": {
   "display_name": "Python 3",
   "language": "python",
   "name": "python3"
  },
  "language_info": {
   "codemirror_mode": {
    "name": "ipython",
    "version": 3
   },
   "file_extension": ".py",
   "mimetype": "text/x-python",
   "name": "python",
   "nbconvert_exporter": "python",
   "pygments_lexer": "ipython3",
   "version": "3.7.3"
  }
 },
 "nbformat": 4,
 "nbformat_minor": 2
}
