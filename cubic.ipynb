{
 "cells": [
  {
   "cell_type": "code",
   "execution_count": 187,
   "metadata": {},
   "outputs": [],
   "source": [
    "from pylab import*\n",
    "from matplotlib import*\n",
    "from scipy import*\n",
    "from scipy import interpolate\n",
    "from scipy.misc import derivative\n",
    "from scipy.interpolate import interp1d"
   ]
  },
  {
   "cell_type": "code",
   "execution_count": 188,
   "metadata": {},
   "outputs": [],
   "source": [
    "#data = np.loadtxt('cmb_derivada.txt').T\n",
    "#x=data[0]\n",
    "#y=data[1]\n",
    "#print(data[1])\n",
    "x = np.array([0.9,1.3,1.9,2.1,2.6,3.0,3.9,4.4,4.7,5.0,6.0,7.0,8.0,9.2,10.5,11.3,11.6,12.0,12.6,13.0,13.3])\n",
    "y = np.array([1.3,1.5,1.85,2.1,2.6,2.7,2.4,2.15,2.05,2.1,2.25,2.3,2.25,1.95,1.4,0.9,0.7,0.6,0.5,0.4,0.25])"
   ]
  },
  {
   "cell_type": "code",
   "execution_count": 189,
   "metadata": {},
   "outputs": [],
   "source": [
    "def hera(n,b):\n",
    "    \n",
    "    long=len(n)\n",
    "    lesslong=len(n)-1\n",
    "    evenlesslong=lesslong-1\n",
    "    morelong=long+1\n",
    "    i=0\n",
    "    a=b\n",
    "    x=n\n",
    "    h=[None] * lesslong\n",
    "    l=[None] * long\n",
    "    u=[None] * lesslong\n",
    "    z=[None] * long\n",
    "    c=[None] * long\n",
    "    d=[None] * long\n",
    "    l[0]=1\n",
    "    u[0]=0\n",
    "    z[0]=0\n",
    "    l[lesslong]=1\n",
    "    z[lesslong]=0\n",
    "    c[lesslong]=0\n",
    " \n",
    "    for i in range (0, lesslong):\n",
    "        h[i]=x[i+1]-x[i]\n",
    "    #print(h)\n",
    "    #print(a)\n",
    "    for i in range (1, lesslong):\n",
    "        a[i]=((3/(h[i]))*((a[i+1]-a[i])))-((3/(h[i-1]))*(a[i]-a[i-1]))\n",
    "    #print(a)\n",
    "    for i in range (1,lesslong):\n",
    "        l[i]=(2*(x[i+1]-x[i-1]))-h[i]*-u[i-1]\n",
    "        u[i]=h[i]/l[i]\n",
    "        z[i]=(a[i]-(h[i-1]*z[i-1]))/(l[i])\n",
    "    #print(l)\n",
    "    print(u)\n",
    "    #print(z)\n",
    "    for j in range(evenlesslong,0,-1):\n",
    "        c[j]=z[j]-((u[j])*(c[j+1]))\n",
    "        b[j]=((a[j+1]-a[j])/h[j])-(h[j]*(c[j+1]+2*c[j]))/3\n",
    "        d[j]=(c[j+1]-c[j])/3*(h[j])\n",
    "    print(c)\n",
    "    print(b)\n",
    "    print(z)\n",
    "    return (a,b,c,d)"
   ]
  },
  {
   "cell_type": "code",
   "execution_count": 190,
   "metadata": {},
   "outputs": [],
   "source": [
    "t=interp1d(x,y,'cubic')"
   ]
  },
  {
   "cell_type": "code",
   "execution_count": 191,
   "metadata": {
    "scrolled": true
   },
   "outputs": [
    {
     "name": "stdout",
     "output_type": "stream",
     "text": [
      "[0, 0.3, 0.12048192771084347, 0.3424092409240923, 0.20650877491906627, 0.323060268375922, 0.16883164355749436, 0.181746640495153, 0.23913452582617292, 0.3522200131425634, 0.22976779597085215, 0.2364195975373801, 0.2562075066521567, 0.24376204678215474, 0.18202462929491592, 0.13306086083626545, 0.27524999946458917, 0.277117058905398, 0.1894974071709194, 0.20592384952301462]\n",
      "[None, -16.41867520941857, 55.14558403139523, -479.33334746058, 1216.4265472824657, -7232.788082508902, 17751.697626254154, -131026.28578311828, 442383.0499408691, -4657655.8469245285, 4850077.956162055, -43884433.27064739, 113678542.3464807, -622462261.2169067, 2150599232.07934, -13324924170.489267, 84177909770.95334, -429455157052.8749, 946287176610.0052, -9438763645386.908, 0]\n",
      "[1.30000000e+00 1.46810548e+18 8.80863288e+17 1.76172658e+17\n",
      " 8.80863288e+16 3.52345315e+16 3.17110784e+16 1.58555392e+16\n",
      " 4.75666175e+15 1.42699853e+15 1.42699852e+15 1.42699848e+15\n",
      " 1.42699841e+15 1.71239767e+15 2.22611690e+15 1.78089026e+15\n",
      " 5.34263795e+14 2.13641503e+14 1.27819713e+14 4.88470497e+13\n",
      " 2.50000000e-01]\n",
      "[0, 0.12500000000000058, -2.605421686746988, -62.817656765676496, -277.20765888567024, -1497.9198832430177, -4369.6855517436625, -50624.65264436584, -671423.2724749298, -2949361.3254626724, -5233151.55386453, -17008598.040456407, -45800961.58496642, -98227790.59711652, -274865150.436834, -2124139032.9687343, -34029621977.91553, -167222837790.81726, -842334061089.9491, -9438763645386.908, 0]\n"
     ]
    }
   ],
   "source": [
    "f=hera(x,y)\n",
    "#print(f)"
   ]
  },
  {
   "cell_type": "code",
   "execution_count": null,
   "metadata": {},
   "outputs": [],
   "source": []
  },
  {
   "cell_type": "code",
   "execution_count": null,
   "metadata": {},
   "outputs": [],
   "source": []
  }
 ],
 "metadata": {
  "kernelspec": {
   "display_name": "Python 3",
   "language": "python",
   "name": "python3"
  },
  "language_info": {
   "codemirror_mode": {
    "name": "ipython",
    "version": 3
   },
   "file_extension": ".py",
   "mimetype": "text/x-python",
   "name": "python",
   "nbconvert_exporter": "python",
   "pygments_lexer": "ipython3",
   "version": "3.7.1"
  }
 },
 "nbformat": 4,
 "nbformat_minor": 2
}
