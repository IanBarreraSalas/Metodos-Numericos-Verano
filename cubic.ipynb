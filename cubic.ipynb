{
 "cells": [
  {
   "cell_type": "code",
   "execution_count": 155,
   "metadata": {},
   "outputs": [],
   "source": [
    "from pylab import*\n",
    "from matplotlib import*\n",
    "from scipy import*\n",
    "from scipy import interpolate\n",
    "from scipy.misc import derivative\n",
    "from scipy.interpolate import interp1d"
   ]
  },
  {
   "cell_type": "code",
   "execution_count": 156,
   "metadata": {},
   "outputs": [
    {
     "name": "stdout",
     "output_type": "stream",
     "text": [
      "[4.96387966e-13 6.17033268e-13 7.24648333e-13 8.10575188e-13\n",
      " 8.75642290e-13 9.20151342e-13 9.43432164e-13 9.48341069e-13\n",
      " 9.37022148e-13 9.12123985e-13 8.75597776e-13 8.31615472e-13\n",
      " 7.81655927e-13 7.26874033e-13 6.71251318e-13 6.13895031e-13\n",
      " 5.58749605e-13 5.05300657e-13 4.53206914e-13 4.05151579e-13\n",
      " 3.60439740e-13 3.18608946e-13 2.80853656e-13 2.45942316e-13\n",
      " 2.15240022e-13 1.87641343e-13 1.62639314e-13 1.40980780e-13\n",
      " 1.21728476e-13 1.04526288e-13 8.98984936e-14 7.68163239e-14\n",
      " 6.57323382e-14 5.59986105e-14 4.76176137e-14 4.05349419e-14\n",
      " 3.41546021e-14 2.89736672e-14 2.45346323e-14 2.06841714e-14\n",
      " 1.75261505e-14 1.43458726e-14]\n"
     ]
    }
   ],
   "source": [
    "data = np.loadtxt('cmb_derivada.txt').T\n",
    "x=data[0]\n",
    "y=data[1]\n",
    "print(data[1])"
   ]
  },
  {
   "cell_type": "code",
   "execution_count": 248,
   "metadata": {},
   "outputs": [],
   "source": [
    "def hera(n,b):\n",
    "    \n",
    "    long=len(n)\n",
    "    lesslong=len(n)-1\n",
    "    evenlesslong=lesslong-1\n",
    "    morelong=long+1\n",
    "    i=0\n",
    "    a=b\n",
    "    x=n\n",
    "    h=[None] * long\n",
    "    l=[None] * long\n",
    "    u=[None] * long\n",
    "    z=[None] * long\n",
    "    l=[None] * long\n",
    "    c=[None] * long\n",
    "    d=[None] * long\n",
    "    l[0]=1\n",
    "    u[0]=0\n",
    "    z[0]=0\n",
    "    l[lesslong]=1\n",
    "    z[lesslong]=0\n",
    "    c[lesslong]=0\n",
    " \n",
    "    for i in range (0, long):\n",
    "        h[i]=x[i+1]-x[i]\n",
    "        \n",
    "    for i in range (1, lesslong):\n",
    "        a[i]=(3/(h[i])*((a[i+1]-a[i])))-((3/h[i-1])*(a[i]-a[i-1]))\n",
    "    for i in range (1,lesslong):\n",
    "        l[i]=(2*(x[i+1]-x[i-1]))-h[i]*-u[i-1]\n",
    "        u[i]=h[i]/l[i]\n",
    "        z[i]=(a[i]-h[i-1]-z[i-1])/(l[1])\n",
    "  \n",
    "    for j in range(evenlesslong,0,-1):\n",
    "        c[j]=z[j]-((u[j])*(c[j+1]))\n",
    "        b[j]=(a[j+1]-a[j])/h[j]-(h[j](c[j+1]+2*c[j]))/3\n",
    "        d[j]=(c[j+1]-c[j])/3(h[j])\n",
    "    return (a,b,c,d)"
   ]
  },
  {
   "cell_type": "code",
   "execution_count": 249,
   "metadata": {},
   "outputs": [],
   "source": [
    "t=interp1d(x,y,'cubic')"
   ]
  },
  {
   "cell_type": "code",
   "execution_count": 250,
   "metadata": {},
   "outputs": [
    {
     "ename": "IndexError",
     "evalue": "index 42 is out of bounds for axis 0 with size 42",
     "output_type": "error",
     "traceback": [
      "\u001b[0;31m---------------------------------------------------------------------------\u001b[0m",
      "\u001b[0;31mIndexError\u001b[0m                                Traceback (most recent call last)",
      "\u001b[0;32m<ipython-input-250-672cda2030bf>\u001b[0m in \u001b[0;36m<module>\u001b[0;34m()\u001b[0m\n\u001b[0;32m----> 1\u001b[0;31m \u001b[0mf\u001b[0m\u001b[0;34m=\u001b[0m\u001b[0mhera\u001b[0m\u001b[0;34m(\u001b[0m\u001b[0mx\u001b[0m\u001b[0;34m,\u001b[0m\u001b[0my\u001b[0m\u001b[0;34m)\u001b[0m\u001b[0;34m\u001b[0m\u001b[0;34m\u001b[0m\u001b[0m\n\u001b[0m\u001b[1;32m      2\u001b[0m \u001b[0mprint\u001b[0m\u001b[0;34m(\u001b[0m\u001b[0mf\u001b[0m\u001b[0;34m)\u001b[0m\u001b[0;34m\u001b[0m\u001b[0;34m\u001b[0m\u001b[0m\n",
      "\u001b[0;32m<ipython-input-248-d198b2aeba8e>\u001b[0m in \u001b[0;36mhera\u001b[0;34m(n, b)\u001b[0m\n\u001b[1;32m     23\u001b[0m \u001b[0;34m\u001b[0m\u001b[0m\n\u001b[1;32m     24\u001b[0m     \u001b[0;32mfor\u001b[0m \u001b[0mi\u001b[0m \u001b[0;32min\u001b[0m \u001b[0mrange\u001b[0m \u001b[0;34m(\u001b[0m\u001b[0;36m0\u001b[0m\u001b[0;34m,\u001b[0m \u001b[0mlong\u001b[0m\u001b[0;34m)\u001b[0m\u001b[0;34m:\u001b[0m\u001b[0;34m\u001b[0m\u001b[0;34m\u001b[0m\u001b[0m\n\u001b[0;32m---> 25\u001b[0;31m         \u001b[0mh\u001b[0m\u001b[0;34m[\u001b[0m\u001b[0mi\u001b[0m\u001b[0;34m]\u001b[0m\u001b[0;34m=\u001b[0m\u001b[0mx\u001b[0m\u001b[0;34m[\u001b[0m\u001b[0mi\u001b[0m\u001b[0;34m+\u001b[0m\u001b[0;36m1\u001b[0m\u001b[0;34m]\u001b[0m\u001b[0;34m-\u001b[0m\u001b[0mx\u001b[0m\u001b[0;34m[\u001b[0m\u001b[0mi\u001b[0m\u001b[0;34m]\u001b[0m\u001b[0;34m\u001b[0m\u001b[0;34m\u001b[0m\u001b[0m\n\u001b[0m\u001b[1;32m     26\u001b[0m \u001b[0;34m\u001b[0m\u001b[0m\n\u001b[1;32m     27\u001b[0m     \u001b[0;32mfor\u001b[0m \u001b[0mi\u001b[0m \u001b[0;32min\u001b[0m \u001b[0mrange\u001b[0m \u001b[0;34m(\u001b[0m\u001b[0;36m1\u001b[0m\u001b[0;34m,\u001b[0m \u001b[0mlesslong\u001b[0m\u001b[0;34m)\u001b[0m\u001b[0;34m:\u001b[0m\u001b[0;34m\u001b[0m\u001b[0;34m\u001b[0m\u001b[0m\n",
      "\u001b[0;31mIndexError\u001b[0m: index 42 is out of bounds for axis 0 with size 42"
     ]
    }
   ],
   "source": [
    "f=hera(x,y)\n",
    "print(f)"
   ]
  },
  {
   "cell_type": "code",
   "execution_count": null,
   "metadata": {},
   "outputs": [],
   "source": []
  }
 ],
 "metadata": {
  "kernelspec": {
   "display_name": "Python 3",
   "language": "python",
   "name": "python3"
  },
  "language_info": {
   "codemirror_mode": {
    "name": "ipython",
    "version": 3
   },
   "file_extension": ".py",
   "mimetype": "text/x-python",
   "name": "python",
   "nbconvert_exporter": "python",
   "pygments_lexer": "ipython3",
   "version": "3.7.1"
  }
 },
 "nbformat": 4,
 "nbformat_minor": 2
}
