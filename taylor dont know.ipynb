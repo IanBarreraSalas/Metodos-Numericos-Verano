{
 "cells": [
  {
   "cell_type": "code",
   "execution_count": 3,
   "metadata": {},
   "outputs": [],
   "source": [
    "from pylab import*\n",
    "from matplotlib import*\n",
    "from scipy import*"
   ]
  },
  {
   "cell_type": "code",
   "execution_count": 72,
   "metadata": {},
   "outputs": [],
   "source": [
    "def f(x,y):\n",
    "    return y-(x**2)+1\n",
    "def dxf(x,y):\n",
    "    return -2*x\n",
    "def dxxf(x,y):\n",
    "    return -2\n",
    "def dxxy(x,y):\n",
    "    return 0\n",
    "def dyf(x,y):\n",
    "    return 1\n",
    "def dyyf(x,y):\n",
    "    return 0\n",
    "def diftay2(x0,y0,x1,n):\n",
    "    vx = [0] * (n + 1)\n",
    "    vy = [0] * (n + 1)\n",
    "    h = (x1 - x0) / float(n)\n",
    "    vx[0] = x = x0\n",
    "    vy[0] = y = y0\n",
    "    for i in range(1,n+1):\n",
    "        vx[i] = x = x0 + i * h\n",
    "        vy[i] = y = y +h*f(x,y)+(h**2)*(dxf(x,y))\n",
    "    return vx,vy\n"
   ]
  },
  {
   "cell_type": "code",
   "execution_count": 73,
   "metadata": {},
   "outputs": [
    {
     "name": "stdout",
     "output_type": "stream",
     "text": [
      "(0, 0.5)\n",
      "(0.2, 0.8243405546991518)\n",
      "(0.4, 1.1998484255378132)\n",
      "(0.6, 1.6202094156370639)\n",
      "(0.8, 2.0777265542347503)\n",
      "(1.0, 2.563017276920948)\n",
      "(1.2, 3.064644290034715)\n",
      "(1.4000000000000001, 3.5686655964235197)\n",
      "(1.6, 4.05808597935485)\n",
      "(1.8, 4.512188364465165)\n",
      "(2.0, 4.905718753706695)\n"
     ]
    },
    {
     "data": {
      "text/plain": [
       "[<matplotlib.lines.Line2D at 0x7fe1cf49fe48>]"
      ]
     },
     "execution_count": 73,
     "metadata": {},
     "output_type": "execute_result"
    },
    {
     "data": {
      "image/png": "[encoded data removed]",
      "text/plain": [
       "<Figure size 432x288 with 1 Axes>"
      ]
     },
     "metadata": {},
     "output_type": "display_data"
    }
   ],
   "source": [
    "vx,vy=diftay2(0,0.5,2,100)\n",
    "#print(vx,vy)\n",
    "for x, y in list(zip(vx, vy))[::10]:\n",
    "    print((x, y, ))\n",
    "    \n",
    "plot(vx,vy)"
   ]
  },
  {
   "cell_type": "code",
   "execution_count": 74,
   "metadata": {},
   "outputs": [],
   "source": [
    "def f(x,y):\n",
    "    return y-(x**2)+1\n",
    "def dxf(x,y):\n",
    "    return -2*x\n",
    "def dxxf(x,y):\n",
    "    return -2\n",
    "def dxxy(x,y):\n",
    "    return 0\n",
    "def dyf(x,y):\n",
    "    return 1\n",
    "def dyyf(x,y):\n",
    "    return 0\n",
    "def diftay4(x0,y0,x1,n):\n",
    "    vx = [0] * (n + 1)\n",
    "    vy = [0] * (n + 1)\n",
    "    h = (x1 - x0) / float(n)\n",
    "    vx[0] = x = x0\n",
    "    vy[0] = y = y0\n",
    "    for i in range(1,n+1):\n",
    "        vx[i] = x = x0 + i * h\n",
    "        vy[i] = y = y +h*f(x,y)+(h**2)*(dxf(x,y)+dyyf(x,y))/2+(h**3)*(dxxf(x,y)+2*(dxxy(x,y))+dyyf(x,y)+dyyf(x,y))/6\n",
    "    return vx,vy\n"
   ]
  },
  {
   "cell_type": "code",
   "execution_count": 75,
   "metadata": {},
   "outputs": [
    {
     "data": {
      "text/plain": [
       "[<matplotlib.lines.Line2D at 0x7fe1cf3fafd0>]"
      ]
     },
     "execution_count": 75,
     "metadata": {},
     "output_type": "execute_result"
    },
    {
     "data": {
      "image/png": "[encoded data removed]",
      "text/plain": [
       "<Figure size 432x288 with 1 Axes>"
      ]
     },
     "metadata": {},
     "output_type": "display_data"
    }
   ],
   "source": [
    "vx,vy=diftay4(0,0.5,2,100)\n",
    "plot(vx,vy)"
   ]
  },
  {
   "cell_type": "code",
   "execution_count": null,
   "metadata": {},
   "outputs": [],
   "source": []
  },
  {
   "cell_type": "code",
   "execution_count": null,
   "metadata": {},
   "outputs": [],
   "source": []
  }
 ],
 "metadata": {
  "kernelspec": {
   "display_name": "Python 3",
   "language": "python",
   "name": "python3"
  },
  "language_info": {
   "codemirror_mode": {
    "name": "ipython",
    "version": 3
   },
   "file_extension": ".py",
   "mimetype": "text/x-python",
   "name": "python",
   "nbconvert_exporter": "python",
   "pygments_lexer": "ipython3",
   "version": "3.7.3"
  }
 },
 "nbformat": 4,
 "nbformat_minor": 2
}
