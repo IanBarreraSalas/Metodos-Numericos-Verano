{
 "cells": [
  {
   "cell_type": "code",
   "execution_count": 57,
   "metadata": {},
   "outputs": [],
   "source": [
    "from pylab import*\n",
    "from matplotlib import*\n",
    "from scipy import*"
   ]
  },
  {
   "cell_type": "code",
   "execution_count": 58,
   "metadata": {},
   "outputs": [],
   "source": [
    "A=[[1,2,3],[3,2,1],[2,1,3]]\n",
    "B=[[2,1,3],[1,2,3],[3,2,1]]"
   ]
  },
  {
   "cell_type": "code",
   "execution_count": 59,
   "metadata": {},
   "outputs": [],
   "source": [
    "def sumx(a,b):\n",
    "    l=len(a)\n",
    "    ñ=len(b)\n",
    "    c=[]\n",
    "    if l!=ñ:\n",
    "        print(\"no son sumables\")\n",
    "        sys.exit()\n",
    "    for i in range (l):\n",
    "        ma=[]\n",
    "        for j in range(ñ):\n",
    "            ma.append(a[i][j]+b[i][j])\n",
    "        c.append(ma)\n",
    "    return c"
   ]
  },
  {
   "cell_type": "code",
   "execution_count": 60,
   "metadata": {},
   "outputs": [
    {
     "name": "stdout",
     "output_type": "stream",
     "text": [
      "[[3, 3, 6], [4, 4, 4], [5, 3, 4]]\n"
     ]
    }
   ],
   "source": [
    "C=sumx(A,B)\n",
    "print(C)"
   ]
  },
  {
   "cell_type": "code",
   "execution_count": 61,
   "metadata": {},
   "outputs": [
    {
     "ename": "SyntaxError",
     "evalue": "invalid syntax (<ipython-input-61-ff28653a9088>, line 10)",
     "output_type": "error",
     "traceback": [
      "\u001b[0;36m  File \u001b[0;32m\"<ipython-input-61-ff28653a9088>\"\u001b[0;36m, line \u001b[0;32m10\u001b[0m\n\u001b[0;31m    for j in range ña:\u001b[0m\n\u001b[0m                    ^\u001b[0m\n\u001b[0;31mSyntaxError\u001b[0m\u001b[0;31m:\u001b[0m invalid syntax\n"
     ]
    }
   ],
   "source": [
    "def multix(a,b):\n",
    "    la=len(a)\n",
    "    ña=len(a[0])\n",
    "    lb=len(b)\n",
    "    ñb=len(b[0])\n",
    "    c=[]\n",
    "    if ña!=lb:\n",
    "        print(\"no son multiplicables\")\n",
    "        sys.exit()\n",
    "    for j in range ña:\n",
    "        for i in range la:\n",
    "            "
   ]
  },
  {
   "cell_type": "code",
   "execution_count": 68,
   "metadata": {},
   "outputs": [],
   "source": [
    "def mexinv(A, tol=None):\n",
    "\n",
    "    n = len(A)\n",
    "    AM = (A)\n",
    "    I = (n)\n",
    "    IM = (I)\n",
    "\n",
    "    # Section 3: Perform row operations\n",
    "    indices = list(range(n)) # to allow flexible row referencing\n",
    "    for fd in range(n): # fd stands for focus diagonal\n",
    "        fdScaler = 1.0 / AM[fd][fd]\n",
    "        # FIRST: scale fd row with fd inverse. \n",
    "        for j in range(n): # Use j to indicate column looping.\n",
    "            AM[fd][j] *= fdScaler\n",
    "            IM[fd][j] *= fdScaler\n",
    "        # SECOND: operate on all rows except fd row as follows:\n",
    "        for i in indices[0:fd] + indices[fd+1:]: # skip fd row\n",
    "            crScaler = AM[i][fd] # cr stands for \"current row\".\n",
    "            for j in range(n): # cr - crScaler * fdRow\n",
    "                AM[i][j] = AM[i][j] - crScaler * AM[fd][j]\n",
    "                IM[i][j] = IM[i][j] - crScaler * IM[fd][j]\n",
    "\n",
    "    # Section 4: Ensure IM is A inverse within tolerance\n",
    "    if check_matrix_equality(I,matrix_multiply(A,IM),tol):\n",
    "        return IM\n",
    "    else:\n",
    "        raise ArithmeticError(\"Matrix inverse out of tolerance.\")"
   ]
  },
  {
   "cell_type": "code",
   "execution_count": 69,
   "metadata": {},
   "outputs": [
    {
     "ename": "TypeError",
     "evalue": "'int' object is not subscriptable",
     "output_type": "error",
     "traceback": [
      "\u001b[0;31m---------------------------------------------------------------------------\u001b[0m",
      "\u001b[0;31mTypeError\u001b[0m                                 Traceback (most recent call last)",
      "\u001b[0;32m<ipython-input-69-0d0eedfddb27>\u001b[0m in \u001b[0;36m<module>\u001b[0;34m()\u001b[0m\n\u001b[0;32m----> 1\u001b[0;31m \u001b[0mA_inv\u001b[0m \u001b[0;34m=\u001b[0m \u001b[0mmexinv\u001b[0m\u001b[0;34m(\u001b[0m\u001b[0mA\u001b[0m\u001b[0;34m)\u001b[0m\u001b[0;34m\u001b[0m\u001b[0;34m\u001b[0m\u001b[0m\n\u001b[0m\u001b[1;32m      2\u001b[0m \u001b[0mprint\u001b[0m\u001b[0;34m(\u001b[0m\u001b[0mA_inv\u001b[0m\u001b[0;34m)\u001b[0m\u001b[0;34m\u001b[0m\u001b[0;34m\u001b[0m\u001b[0m\n",
      "\u001b[0;32m<ipython-input-68-869a0e9c8a55>\u001b[0m in \u001b[0;36mmexinv\u001b[0;34m(A, tol)\u001b[0m\n\u001b[1;32m     13\u001b[0m         \u001b[0;32mfor\u001b[0m \u001b[0mj\u001b[0m \u001b[0;32min\u001b[0m \u001b[0mrange\u001b[0m\u001b[0;34m(\u001b[0m\u001b[0mn\u001b[0m\u001b[0;34m)\u001b[0m\u001b[0;34m:\u001b[0m \u001b[0;31m# Use j to indicate column looping.\u001b[0m\u001b[0;34m\u001b[0m\u001b[0;34m\u001b[0m\u001b[0m\n\u001b[1;32m     14\u001b[0m             \u001b[0mAM\u001b[0m\u001b[0;34m[\u001b[0m\u001b[0mfd\u001b[0m\u001b[0;34m]\u001b[0m\u001b[0;34m[\u001b[0m\u001b[0mj\u001b[0m\u001b[0;34m]\u001b[0m \u001b[0;34m*=\u001b[0m \u001b[0mfdScaler\u001b[0m\u001b[0;34m\u001b[0m\u001b[0;34m\u001b[0m\u001b[0m\n\u001b[0;32m---> 15\u001b[0;31m             \u001b[0mIM\u001b[0m\u001b[0;34m[\u001b[0m\u001b[0mfd\u001b[0m\u001b[0;34m]\u001b[0m\u001b[0;34m[\u001b[0m\u001b[0mj\u001b[0m\u001b[0;34m]\u001b[0m \u001b[0;34m*=\u001b[0m \u001b[0mfdScaler\u001b[0m\u001b[0;34m\u001b[0m\u001b[0;34m\u001b[0m\u001b[0m\n\u001b[0m\u001b[1;32m     16\u001b[0m         \u001b[0;31m# SECOND: operate on all rows except fd row as follows:\u001b[0m\u001b[0;34m\u001b[0m\u001b[0;34m\u001b[0m\u001b[0;34m\u001b[0m\u001b[0m\n\u001b[1;32m     17\u001b[0m         \u001b[0;32mfor\u001b[0m \u001b[0mi\u001b[0m \u001b[0;32min\u001b[0m \u001b[0mindices\u001b[0m\u001b[0;34m[\u001b[0m\u001b[0;36m0\u001b[0m\u001b[0;34m:\u001b[0m\u001b[0mfd\u001b[0m\u001b[0;34m]\u001b[0m \u001b[0;34m+\u001b[0m \u001b[0mindices\u001b[0m\u001b[0;34m[\u001b[0m\u001b[0mfd\u001b[0m\u001b[0;34m+\u001b[0m\u001b[0;36m1\u001b[0m\u001b[0;34m:\u001b[0m\u001b[0;34m]\u001b[0m\u001b[0;34m:\u001b[0m \u001b[0;31m# skip fd row\u001b[0m\u001b[0;34m\u001b[0m\u001b[0;34m\u001b[0m\u001b[0m\n",
      "\u001b[0;31mTypeError\u001b[0m: 'int' object is not subscriptable"
     ]
    }
   ],
   "source": [
    "A_inv = mexinv(A)\n",
    "print(A_inv)"
   ]
  },
  {
   "cell_type": "code",
   "execution_count": 56,
   "metadata": {},
   "outputs": [],
   "source": [
    "def invert_matrix(A, tol=None):\n",
    "    \"\"\"\n",
    "    Returns the inverse of the passed in matrix.\n",
    "        :param A: The matrix to be inversed\n",
    "\n",
    "        :return: The inverse of the matrix A\n",
    "    \"\"\"\n",
    "    # Section 1: Make sure A can be inverted.\n",
    "    check_squareness(A) \n",
    "    check_non_singular(A)\n",
    "\n",
    "    # Section 2: Make copies of A & I, to use for row operations\n",
    "    n = len(A)\n",
    "    AM = copy_matrix(A)\n",
    "    I = identity_matrix(n)\n",
    "    IM = copy_matrix(I)\n",
    "\n",
    "    # Section 3: Perform row operations\n",
    "    indices = list(range(n)) # to allow flexible row referencing\n",
    "    for fd in range(n): # fd stands for focus diagonal\n",
    "        fdScaler = 1.0 / AM[fd][fd]\n",
    "        # FIRST: scale fd row with fd inverse. \n",
    "        for j in range(n): # Use j to indicate column looping.\n",
    "            AM[fd][j] *= fdScaler\n",
    "            IM[fd][j] *= fdScaler\n",
    "        # SECOND: operate on all rows except fd row as follows:\n",
    "        for i in indices[0:fd] + indices[fd+1:]: # skip fd row\n",
    "            crScaler = AM[i][fd] # cr stands for \"current row\".\n",
    "            for j in range(n): # cr - crScaler * fdRow\n",
    "                AM[i][j] = AM[i][j] - crScaler * AM[fd][j]\n",
    "                IM[i][j] = IM[i][j] - crScaler * IM[fd][j]\n",
    "\n",
    "    # Section 4: Ensure IM is A inverse within tolerance\n",
    "    if check_matrix_equality(I,matrix_multiply(A,IM),tol):\n",
    "        return IM\n",
    "    else:\n",
    "        raise ArithmeticError(\"Matrix inverse out of tolerance.\")"
   ]
  },
  {
   "cell_type": "code",
   "execution_count": null,
   "metadata": {},
   "outputs": [],
   "source": []
  }
 ],
 "metadata": {
  "kernelspec": {
   "display_name": "Python 3",
   "language": "python",
   "name": "python3"
  },
  "language_info": {
   "codemirror_mode": {
    "name": "ipython",
    "version": 3
   },
   "file_extension": ".py",
   "mimetype": "text/x-python",
   "name": "python",
   "nbconvert_exporter": "python",
   "pygments_lexer": "ipython3",
   "version": "3.7.3"
  }
 },
 "nbformat": 4,
 "nbformat_minor": 2
}
