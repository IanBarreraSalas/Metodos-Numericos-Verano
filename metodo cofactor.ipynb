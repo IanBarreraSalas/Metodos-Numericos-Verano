{
 "cells": [
  {
   "cell_type": "code",
   "execution_count": 65,
   "metadata": {},
   "outputs": [],
   "source": [
    "from pylab import*\n",
    "from matplotlib import*\n",
    "from scipy import*"
   ]
  },
  {
   "cell_type": "code",
   "execution_count": null,
   "metadata": {},
   "outputs": [],
   "source": []
  },
  {
   "cell_type": "code",
   "execution_count": null,
   "metadata": {},
   "outputs": [],
   "source": []
  },
  {
   "cell_type": "code",
   "execution_count": null,
   "metadata": {},
   "outputs": [],
   "source": []
  },
  {
   "cell_type": "code",
   "execution_count": 66,
   "metadata": {},
   "outputs": [],
   "source": [
    "def cofactor(A,temp,p,q,n):\n",
    "    i=0\n",
    "    j=0\n",
    "    for row in range (n):\n",
    "        for col in range (n):\n",
    "            if row!=p and col!=q:\n",
    "                temp[i,j]=A[row,col]\n",
    "                j=j+1\n",
    "                if j==n-1:\n",
    "                    j=0\n",
    "                    i=i+1\n",
    "\n",
    "    return temp"
   ]
  },
  {
   "cell_type": "code",
   "execution_count": 67,
   "metadata": {},
   "outputs": [],
   "source": [
    "def determinant (A,n):\n",
    "    D=0\n",
    "    if n==1:\n",
    "        return A[0,0];\n",
    "    temp=np.zeros((n,n));\n",
    "    sign=1\n",
    "    for f in range (n):\n",
    "        temp=cofactor(A,temp,0,f,n)\n",
    "        scer=determinant(temp,n-1)\n",
    "        D += sign*A[0,f]*scer\n",
    "        sign= -sign\n",
    "    return D"
   ]
  },
  {
   "cell_type": "code",
   "execution_count": 68,
   "metadata": {},
   "outputs": [],
   "source": [
    "def adjunt(A,adj):\n",
    "    N=len(A)\n",
    "    if N==1:\n",
    "        adj[0,0]=1\n",
    "        return\n",
    "    sign=1,\n",
    "    temp=np.zeros((N,N))\n",
    "    for i in range (N):\n",
    "        for j in range (N):\n",
    "            temp=cofactor(A,temp,i,j,N)\n",
    "            sign=(-1)**(i+j)\n",
    "            fuck=determinant(temp, N-1)\n",
    "            adj[j,i]=(sign)*(fuck)\n",
    "    return adj"
   ]
  },
  {
   "cell_type": "code",
   "execution_count": 69,
   "metadata": {},
   "outputs": [],
   "source": [
    "def inverse(A ,inverse):\n",
    "    det= determinant(A,N)\n",
    "    if det==0:\n",
    "        return False \n",
    "    adj= np.zeros((N,N))\n",
    "    adj=adjunt(A,adj);\n",
    "    for i in range (N):\n",
    "        for j in range (N):\n",
    "            inverse[i,j]= adj[i,j]/det\n",
    "    return inv"
   ]
  },
  {
   "cell_type": "code",
   "execution_count": 70,
   "metadata": {},
   "outputs": [],
   "source": [
    "A = np.array([[1,2,3],[2,5,3],[1,0,8]])#ingrese matriz n por n"
   ]
  },
  {
   "cell_type": "code",
   "execution_count": 71,
   "metadata": {},
   "outputs": [
    {
     "name": "stdout",
     "output_type": "stream",
     "text": [
      "[[-40.  16.   9.]\n",
      " [ 13.  -5.  -3.]\n",
      " [  5.  -2.  -1.]]\n"
     ]
    }
   ],
   "source": [
    "N=3 # valor de n de su matriz\n",
    "adj= np.zeros((N,N))\n",
    "inv= np.zeros((N,N))\n",
    "#if (inverse(A,inv)):\n",
    "    #print(inv)\n",
    "inv=inverse(A,inv)\n",
    "print (inv)"
   ]
  },
  {
   "cell_type": "code",
   "execution_count": null,
   "metadata": {},
   "outputs": [],
   "source": []
  },
  {
   "cell_type": "code",
   "execution_count": null,
   "metadata": {},
   "outputs": [],
   "source": []
  },
  {
   "cell_type": "code",
   "execution_count": null,
   "metadata": {},
   "outputs": [],
   "source": []
  },
  {
   "cell_type": "code",
   "execution_count": null,
   "metadata": {},
   "outputs": [],
   "source": []
  },
  {
   "cell_type": "code",
   "execution_count": null,
   "metadata": {},
   "outputs": [],
   "source": []
  },
  {
   "cell_type": "code",
   "execution_count": null,
   "metadata": {},
   "outputs": [],
   "source": []
  },
  {
   "cell_type": "code",
   "execution_count": null,
   "metadata": {},
   "outputs": [],
   "source": []
  },
  {
   "cell_type": "code",
   "execution_count": null,
   "metadata": {},
   "outputs": [],
   "source": []
  },
  {
   "cell_type": "code",
   "execution_count": null,
   "metadata": {},
   "outputs": [],
   "source": []
  }
 ],
 "metadata": {
  "kernelspec": {
   "display_name": "Python 3",
   "language": "python",
   "name": "python3"
  },
  "language_info": {
   "codemirror_mode": {
    "name": "ipython",
    "version": 3
   },
   "file_extension": ".py",
   "mimetype": "text/x-python",
   "name": "python",
   "nbconvert_exporter": "python",
   "pygments_lexer": "ipython3",
   "version": "3.7.3"
  }
 },
 "nbformat": 4,
 "nbformat_minor": 2
}
