{
 "cells": [
  {
   "cell_type": "code",
   "execution_count": 38,
   "metadata": {},
   "outputs": [],
   "source": [
    "from pylab import*\n",
    "from matplotlib import*\n",
    "from scipy import*\n",
    "from scipy.interpolate import interp1d"
   ]
  },
  {
   "cell_type": "code",
   "execution_count": 68,
   "metadata": {},
   "outputs": [],
   "source": [
    "data = np.loadtxt('theta.txt').T\n",
    "posh= np.loadtxt('psf_theta.txt')\n",
    "eve= np.loadtxt('events.txt').T\n",
    "def simpsos (x,fx):\n",
    "    inte=0\n",
    "    a=fx[0]\n",
    "    b=fx[len(fx)-1]\n",
    "    h=((x[len(x)-1]-x[0])/(len(x)))\n",
    "    st=(len(fx)//2)-1\n",
    "    for i in range (1,st):\n",
    "        inte+=2*fx[2*i]\n",
    "    for i in range (1,st+1):\n",
    "        inte+=4*fx[(2*i)-1]\n",
    "    inte+=a+b\n",
    "    inte*=(h)/3   \n",
    "    return inte"
   ]
  },
  {
   "cell_type": "code",
   "execution_count": 79,
   "metadata": {},
   "outputs": [],
   "source": [
    "\n",
    "\n",
    "x_i = data\n",
    "y_i = posh\n",
    "\n",
    "\n",
    "\n",
    "x = np.linspace((0*pi/180),(0.2*pi/180),1000)\n",
    "P=empty(15)\n",
    "test=empty(15)\n",
    "for i in range (15):\n",
    "    P = interp1d(x_i*pi/180,y_i[i],'cubic')\n",
    "    R=P(x)\n",
    "    test[i]=simpsos(x,R)\n",
    "\n"
   ]
  },
  {
   "cell_type": "code",
   "execution_count": 80,
   "metadata": {},
   "outputs": [],
   "source": [
    "noeve=eve[0]\n",
    "emin=eve[1]\n",
    "emax=eve[2]\n",
    "exposure=eve[3]\n",
    "tester=2.*noeve/(emax+emin)/exposure/test"
   ]
  },
  {
   "cell_type": "code",
   "execution_count": 81,
   "metadata": {},
   "outputs": [
    {
     "name": "stdout",
     "output_type": "stream",
     "text": [
      "[  1.73634375   3.51536533   6.64364058  11.00724338  19.2844348\n",
      "  30.12827662  44.54880051  64.21102001  86.69501684 113.53901345\n",
      " 144.46812222 177.00676969 211.12443222 241.39686432 268.86741584]\n"
     ]
    }
   ],
   "source": [
    "#test=simpsos(x,P)\n",
    "print(test)\n"
   ]
  },
  {
   "cell_type": "code",
   "execution_count": 84,
   "metadata": {},
   "outputs": [
    {
     "data": {
      "image/png": "[encoded data removed]",
      "text/plain": [
       "<Figure size 432x288 with 1 Axes>"
      ]
     },
     "metadata": {},
     "output_type": "display_data"
    }
   ],
   "source": [
    "energy=(emax+emin)/2\n",
    "plot(energy,tester,'o')\n",
    "yscale('log')\n",
    "xscale('log')\n",
    "show()"
   ]
  },
  {
   "cell_type": "code",
   "execution_count": null,
   "metadata": {},
   "outputs": [],
   "source": []
  },
  {
   "cell_type": "code",
   "execution_count": null,
   "metadata": {},
   "outputs": [],
   "source": []
  },
  {
   "cell_type": "code",
   "execution_count": null,
   "metadata": {},
   "outputs": [],
   "source": []
  }
 ],
 "metadata": {
  "kernelspec": {
   "display_name": "Python 3",
   "language": "python",
   "name": "python3"
  },
  "language_info": {
   "codemirror_mode": {
    "name": "ipython",
    "version": 3
   },
   "file_extension": ".py",
   "mimetype": "text/x-python",
   "name": "python",
   "nbconvert_exporter": "python",
   "pygments_lexer": "ipython3",
   "version": "3.7.3"
  }
 },
 "nbformat": 4,
 "nbformat_minor": 2
}
