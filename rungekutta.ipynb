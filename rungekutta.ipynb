{
 "cells": [
  {
   "cell_type": "code",
   "execution_count": 2,
   "metadata": {},
   "outputs": [],
   "source": [
    "from pylab import*\n",
    "from matplotlib import*\n",
    "from scipy import*"
   ]
  },
  {
   "cell_type": "code",
   "execution_count": 24,
   "metadata": {},
   "outputs": [
    {
     "name": "stdout",
     "output_type": "stream",
     "text": [
      "(0, 0.5)\n",
      "(0.2, 0.8296791261399321)\n",
      "(0.4, 1.215793919884345)\n",
      "(0.6, 1.6531275510877954)\n",
      "(0.8, 2.135308252715069)\n",
      "(1.0, 2.6545536331568655)\n",
      "(1.2, 3.20135838268893)\n",
      "(1.4000000000000001, 3.764112842289988)\n",
      "(1.6, 4.328637128663197)\n",
      "(1.8, 4.877612120726396)\n",
      "(2.0, 5.38988447407051)\n"
     ]
    },
    {
     "data": {
      "text/plain": [
       "[<matplotlib.lines.Line2D at 0x7f47a6fac9b0>]"
      ]
     },
     "execution_count": 24,
     "metadata": {},
     "output_type": "execute_result"
    },
    {
     "data": {
      "image/png": "[encoded data removed]",
      "text/plain": [
       "<Figure size 432x288 with 1 Axes>"
      ]
     },
     "metadata": {},
     "output_type": "display_data"
    }
   ],
   "source": [
    "def f(x, y):\n",
    "    return y-(x**2)+1\n",
    "\n",
    "def runku2(f, x0, y0, x1, n):\n",
    "    vx = [0] * (n + 1)\n",
    "    vy = [0] * (n + 1)\n",
    "    h = (x1 - x0) / float(n)\n",
    "    vx[0] = x = x0\n",
    "    vy[0] = y = y0\n",
    "    for i in range(1, n + 1):\n",
    "        k1=h*f(x,y)\n",
    "        k2=h*f(x + (h/2) * h, y + (1/2) * k1)\n",
    "\n",
    "        vx[i] = x = x0 + i * h\n",
    "        vy[i] = y = y + (  k2 )\n",
    "    return vx, vy\n",
    " \n",
    "vx, vy = runku2(f, 0, 0.5, 2, 100)\n",
    "for x, y in list(zip(vx, vy))[::10]:\n",
    "    print((x, y, ))\n",
    "plot(vx,vy)"
   ]
  },
  {
   "cell_type": "code",
   "execution_count": 25,
   "metadata": {},
   "outputs": [
    {
     "name": "stdout",
     "output_type": "stream",
     "text": [
      "(0, 0.5)\n",
      "(0.2, 0.8292986203494238)\n",
      "(0.4, 1.2140876499475346)\n",
      "(0.6, 1.648940597808465)\n",
      "(0.8, 2.1272295328766853)\n",
      "(1.0, 2.6408590818821978)\n",
      "(1.2, 3.1799415335872845)\n",
      "(1.4000000000000001, 3.732400010217473)\n",
      "(1.6, 4.283483779952927)\n",
      "(1.8, 4.815176258268743)\n",
      "(2.0, 5.305471939139352)\n"
     ]
    },
    {
     "data": {
      "text/plain": [
       "[<matplotlib.lines.Line2D at 0x7f47a6f89c88>]"
      ]
     },
     "execution_count": 25,
     "metadata": {},
     "output_type": "execute_result"
    },
    {
     "data": {
      "image/png": "[encoded data removed]",
      "text/plain": [
       "<Figure size 432x288 with 1 Axes>"
      ]
     },
     "metadata": {},
     "output_type": "display_data"
    }
   ],
   "source": [
    "def f(x, y):\n",
    "    return y-(x**2)+1\n",
    "\n",
    "def runku4(f, x0, y0, x1, n):\n",
    "    vx = [0] * (n + 1)\n",
    "    vy = [0] * (n + 1)\n",
    "    h = (x1 - x0) / float(n)\n",
    "    vx[0] = x = x0\n",
    "    vy[0] = y = y0\n",
    "    for i in range(1, n + 1):\n",
    "        k1=h*f(x, y)\n",
    "        k2=h*f(x + 0.5 * h, y + 0.5 * k1)\n",
    "        k3=h*f(x + 0.5 * h, y + 0.5 * k2)\n",
    "        k4=h*f(x + h, y + k3)\n",
    "        vx[i] = x = x0 + i * h\n",
    "        vy[i] = y = y + (k1 + k2 + k2 + k3 + k3 + k4) / 6 #error\n",
    "    return vx ,vy\n",
    " \n",
    "\n",
    "vx,vy = runku4(f, 0, 0.5, 2, 100)\n",
    "for x, y in list(zip(vx, vy))[::10]:\n",
    "    print((x, y))\n",
    "plot(vx,vy)"
   ]
  },
  {
   "cell_type": "code",
   "execution_count": null,
   "metadata": {},
   "outputs": [],
   "source": [
    "\n"
   ]
  },
  {
   "cell_type": "code",
   "execution_count": null,
   "metadata": {},
   "outputs": [],
   "source": []
  }
 ],
 "metadata": {
  "kernelspec": {
   "display_name": "Python 3",
   "language": "python",
   "name": "python3"
  },
  "language_info": {
   "codemirror_mode": {
    "name": "ipython",
    "version": 3
   },
   "file_extension": ".py",
   "mimetype": "text/x-python",
   "name": "python",
   "nbconvert_exporter": "python",
   "pygments_lexer": "ipython3",
   "version": "3.7.3"
  }
 },
 "nbformat": 4,
 "nbformat_minor": 2
}
